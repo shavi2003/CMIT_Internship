{
 "cells": [
  {
   "cell_type": "code",
   "execution_count": 1,
   "id": "77ad729e",
   "metadata": {},
   "outputs": [
    {
     "name": "stdout",
     "output_type": "stream",
     "text": [
      "The obtained result:  -0.11205975029482525 1.0073421846316004 -0.2586240023871904\n"
     ]
    },
    {
     "data": {
      "text/plain": [
       "<matplotlib.legend.Legend at 0x7fc31103cdf0>"
      ]
     },
     "execution_count": 1,
     "metadata": {},
     "output_type": "execute_result"
    },
    {
     "data": {
      "image/png": "[encoded data removed]",
      "text/plain": [
       "<Figure size 432x288 with 1 Axes>"
      ]
     },
     "metadata": {
      "needs_background": "light"
     },
     "output_type": "display_data"
    }
   ],
   "source": [
    "#Homework:\n",
    "import numpy as np\n",
    "import matplotlib.pyplot as plt\n",
    "\n",
    "x = np.array([0.0, 1.0, 2.0, 3.0,  4.0,  5.0])\n",
    "y = np.array([0.0, 0.8, 0.9, 0.1, -0.8, -1.0])\n",
    "plt.plot(x, y, 'o', label='Original data', markersize=10)\n",
    "\n",
    "def fit_lse_quadratic(x, y):\n",
    "    lr = 0.001 # the learning rate, 'tau'\n",
    "    w1 = 1.45\n",
    "    w2 = 1.45\n",
    "    b = 0\n",
    "    for i in range(50):\n",
    "        grad_w1 = 0\n",
    "        grad_w2 = 0\n",
    "        grad_b = 0\n",
    "        \n",
    "        for _x, _y in zip(x, y):\n",
    "            grad_w1 += _x*(b + _x*w1 + np.square(_x)*w2 - _y)\n",
    "            grad_w2 += np.square(_x)*(b + _x*w1 + np.square(_x)*w2 - _y)\n",
    "            grad_b += (b + _x*w1 + np.square(_x)*w2 - _y)\n",
    "            \n",
    "        w1 = w1 - lr*(grad_w1)\n",
    "        w2 = w2 - lr*(grad_w2)\n",
    "        b = b - lr*(grad_b)\n",
    "        \n",
    "    \n",
    "    \n",
    "        \n",
    "    return b, w1, w2\n",
    "\n",
    "b, w1, w2 = fit_lse_quadratic(x, y)\n",
    "print(\"The obtained result: \", b, w1, w2)\n",
    "\n",
    "# Plotting \n",
    "plt.plot(x, y, 'o', label='Original data', markersize=10)\n",
    "plt.plot(x, w2*np.square(x)+ w1*x + b, 'r', label='Fitted line')\n",
    "plt.legend()\n"
   ]
  },
  {
   "cell_type": "code",
   "execution_count": null,
   "id": "56e2900a",
   "metadata": {},
   "outputs": [],
   "source": []
  }
 ],
 "metadata": {
  "kernelspec": {
   "display_name": "Python 3 (ipykernel)",
   "language": "python",
   "name": "python3"
  },
  "language_info": {
   "codemirror_mode": {
    "name": "ipython",
    "version": 3
   },
   "file_extension": ".py",
   "mimetype": "text/x-python",
   "name": "python",
   "nbconvert_exporter": "python",
   "pygments_lexer": "ipython3",
   "version": "3.9.7"
  }
 },
 "nbformat": 4,
 "nbformat_minor": 5
}
