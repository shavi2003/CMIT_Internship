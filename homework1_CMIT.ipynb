{
 "cells": [
  {
   "cell_type": "code",
   "execution_count": 1,
   "id": "39d90912",
   "metadata": {},
   "outputs": [
    {
     "name": "stdout",
     "output_type": "stream",
     "text": [
      "randomly generated list:  [-1, 14, 3, 0, -1, 12, -12, 0, -12, 3]\n",
      "after sorting it:  [-12, -12, -1, -1, 0, 0, 3, 3, 12, 14]\n"
     ]
    }
   ],
   "source": [
    "import random\n",
    "\n",
    "#function which creates a random list\n",
    "def random_list_generator(length, range1, range2):\n",
    "    arbitrary_list = []\n",
    "    for i in range(length):\n",
    "        arbitrary_list.append(random.randrange(range1, range2))\n",
    "    return arbitrary_list\n",
    "\n",
    "\n",
    "#sorting function (bubble sort)\n",
    "def sorting(lst):\n",
    "    n = len(lst)\n",
    "    for i in range(n):\n",
    "        for j in range(n - i - 1):\n",
    "            if lst[j] > lst[j + 1]:\n",
    "                lst[j], lst[j + 1] = lst[j + 1], lst[j]\n",
    "    return lst\n",
    "                \n",
    "\n",
    "    \n",
    "#generating a list\n",
    "test_list =random_list_generator(10, -15, 15)\n",
    "print('randomly generated list: ', test_list)\n",
    "\n",
    "\n",
    "#sorting it\n",
    "print('after sorting it: ', sorting(test_list))\n"
   ]
  },
  {
   "cell_type": "code",
   "execution_count": null,
   "id": "176aa9c2",
   "metadata": {},
   "outputs": [],
   "source": []
  }
 ],
 "metadata": {
  "kernelspec": {
   "display_name": "Python 3 (ipykernel)",
   "language": "python",
   "name": "python3"
  },
  "language_info": {
   "codemirror_mode": {
    "name": "ipython",
    "version": 3
   },
   "file_extension": ".py",
   "mimetype": "text/x-python",
   "name": "python",
   "nbconvert_exporter": "python",
   "pygments_lexer": "ipython3",
   "version": "3.9.7"
  }
 },
 "nbformat": 4,
 "nbformat_minor": 5
}
